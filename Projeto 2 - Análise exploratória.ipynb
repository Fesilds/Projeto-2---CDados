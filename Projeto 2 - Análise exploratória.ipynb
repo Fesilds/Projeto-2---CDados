{
 "cells": [
  {
   "cell_type": "markdown",
   "metadata": {},
   "source": [
    "# Projeto 2 - Ciência dos Dados\n",
    "\n",
    "# Analise de pardidas de league of legends\n",
    "\n",
    "### Alunos:\n",
    "\n",
    " - Felipe Junqueira \n",
    " - João Roxo \n",
    "\n",
    "## Link para base de dados\n",
    "- https://www.kaggle.com/bobbyscience/league-of-legends-diamond-ranked-games-10-min\n",
    "\n",
    "\n",
    "A partir da base de dados coletada foi utilizado a biblioteca 'scikit-learn' para assim usufruir das técnicas Naive Bases e Decision tree classifier para classificação dos resultados de league of legends, vale a pena dizer que esses dados são de partidas de ranques mais altos e também são analisados só os primeiros 10 minutos de partida, logo o objetivo é tentar prever por meio das técnicas de classificação o time que em nos primeiros 10 minutos tem ma maior chance de vitória (lembrando que partidas em league of legends costumam durar mais de 25 minutos, tendo isso em vista é muito raro uma partida que acabea antes dos 10 minutos inicias)."
   ]
  },
  {
   "cell_type": "markdown",
   "metadata": {},
   "source": [
    "## League of legends\n",
    "Dando inicio a análise, é necessario explicar um pouco sobre o jogo em questão. League of legends é um jogo 5 contra 5 onde os jogadores se enfrentam em diferentes rotas, destruindo estruturas inimigas, derrotando monstros, acumulando dinheiro para fortalecer seu personagem e colocando \"wards\" no mapa para dar visão e assim adiquiriri informação, a partida acaba quando o nexus inimigo é destruido. \n",
    "\n",
    "### Construindo a vitória\n",
    "Como foi dito League of legends é um jogo que acaba com a destruição do nexus inimigo, mas não é tão facil quanto parece, a base inimiga é altamente protegida por torres e tropas, o que dificulta muito sua destruição. Por isso é necessario que aos poucos o seu campeão fique mais forte a fim de ter poder suficiente para destruir a bas inimiga. \n",
    "\n",
    "Para deixa-lo mais forte é necessario conquistar vários objetivos, e eventualmente o time que possuir mais objetivos terá uma maior chance de vencer.\n",
    "\n"
   ]
  },
  {
   "cell_type": "code",
   "execution_count": 1,
   "metadata": {},
   "outputs": [],
   "source": [
    "%matplotlib inline\n",
    "import numpy as np\n",
    "import pandas as pd\n",
    "import matplotlib\n",
    "import matplotlib.pyplot as plt"
   ]
  },
  {
   "cell_type": "code",
   "execution_count": 7,
   "metadata": {},
   "outputs": [
    {
     "data": {
      "text/html": [
       "<div>\n",
       "<style scoped>\n",
       "    .dataframe tbody tr th:only-of-type {\n",
       "        vertical-align: middle;\n",
       "    }\n",
       "\n",
       "    .dataframe tbody tr th {\n",
       "        vertical-align: top;\n",
       "    }\n",
       "\n",
       "    .dataframe thead th {\n",
       "        text-align: right;\n",
       "    }\n",
       "</style>\n",
       "<table border=\"1\" class=\"dataframe\">\n",
       "  <thead>\n",
       "    <tr style=\"text-align: right;\">\n",
       "      <th></th>\n",
       "      <th>gameId</th>\n",
       "      <th>blueWins</th>\n",
       "      <th>blueWardsPlaced</th>\n",
       "      <th>blueWardsDestroyed</th>\n",
       "      <th>blueFirstBlood</th>\n",
       "      <th>blueKills</th>\n",
       "      <th>blueDeaths</th>\n",
       "      <th>blueAssists</th>\n",
       "      <th>blueEliteMonsters</th>\n",
       "      <th>blueDragons</th>\n",
       "      <th>...</th>\n",
       "      <th>redTowersDestroyed</th>\n",
       "      <th>redTotalGold</th>\n",
       "      <th>redAvgLevel</th>\n",
       "      <th>redTotalExperience</th>\n",
       "      <th>redTotalMinionsKilled</th>\n",
       "      <th>redTotalJungleMinionsKilled</th>\n",
       "      <th>redGoldDiff</th>\n",
       "      <th>redExperienceDiff</th>\n",
       "      <th>redCSPerMin</th>\n",
       "      <th>redGoldPerMin</th>\n",
       "    </tr>\n",
       "  </thead>\n",
       "  <tbody>\n",
       "    <tr>\n",
       "      <td>0</td>\n",
       "      <td>4519157822</td>\n",
       "      <td>0</td>\n",
       "      <td>28</td>\n",
       "      <td>2</td>\n",
       "      <td>1</td>\n",
       "      <td>9</td>\n",
       "      <td>6</td>\n",
       "      <td>11</td>\n",
       "      <td>0</td>\n",
       "      <td>0</td>\n",
       "      <td>...</td>\n",
       "      <td>0</td>\n",
       "      <td>16567</td>\n",
       "      <td>6.8</td>\n",
       "      <td>17047</td>\n",
       "      <td>197</td>\n",
       "      <td>55</td>\n",
       "      <td>-643</td>\n",
       "      <td>8</td>\n",
       "      <td>19.7</td>\n",
       "      <td>1656.7</td>\n",
       "    </tr>\n",
       "  </tbody>\n",
       "</table>\n",
       "<p>1 rows × 40 columns</p>\n",
       "</div>"
      ],
      "text/plain": [
       "       gameId  blueWins  blueWardsPlaced  blueWardsDestroyed  blueFirstBlood  \\\n",
       "0  4519157822         0               28                   2               1   \n",
       "\n",
       "   blueKills  blueDeaths  blueAssists  blueEliteMonsters  blueDragons  ...  \\\n",
       "0          9           6           11                  0            0  ...   \n",
       "\n",
       "   redTowersDestroyed  redTotalGold  redAvgLevel  redTotalExperience  \\\n",
       "0                   0         16567          6.8               17047   \n",
       "\n",
       "   redTotalMinionsKilled  redTotalJungleMinionsKilled  redGoldDiff  \\\n",
       "0                    197                           55         -643   \n",
       "\n",
       "   redExperienceDiff  redCSPerMin  redGoldPerMin  \n",
       "0                  8         19.7         1656.7  \n",
       "\n",
       "[1 rows x 40 columns]"
      ]
     },
     "execution_count": 7,
     "metadata": {},
     "output_type": "execute_result"
    }
   ],
   "source": [
    "rank=pd.read_excel('high_diamond_ranked_10min.xlsx')\n",
    "rank.head(1)"
   ]
  },
  {
   "cell_type": "code",
   "execution_count": 4,
   "metadata": {},
   "outputs": [
    {
     "data": {
      "text/html": [
       "<div>\n",
       "<style scoped>\n",
       "    .dataframe tbody tr th:only-of-type {\n",
       "        vertical-align: middle;\n",
       "    }\n",
       "\n",
       "    .dataframe tbody tr th {\n",
       "        vertical-align: top;\n",
       "    }\n",
       "\n",
       "    .dataframe thead th {\n",
       "        text-align: right;\n",
       "    }\n",
       "</style>\n",
       "<table border=\"1\" class=\"dataframe\">\n",
       "  <thead>\n",
       "    <tr style=\"text-align: right;\">\n",
       "      <th></th>\n",
       "      <th>blueWins</th>\n",
       "      <th>blueWardsPlaced</th>\n",
       "      <th>blueWardsDestroyed</th>\n",
       "      <th>blueFirstBlood</th>\n",
       "      <th>blueKills</th>\n",
       "      <th>blueDeaths</th>\n",
       "      <th>blueAssists</th>\n",
       "      <th>blueEliteMonsters</th>\n",
       "      <th>blueDragons</th>\n",
       "      <th>blueHeralds</th>\n",
       "      <th>...</th>\n",
       "      <th>redTowersDestroyed</th>\n",
       "      <th>redTotalGold</th>\n",
       "      <th>redAvgLevel</th>\n",
       "      <th>redTotalExperience</th>\n",
       "      <th>redTotalMinionsKilled</th>\n",
       "      <th>redTotalJungleMinionsKilled</th>\n",
       "      <th>redGoldDiff</th>\n",
       "      <th>redExperienceDiff</th>\n",
       "      <th>redCSPerMin</th>\n",
       "      <th>redGoldPerMin</th>\n",
       "    </tr>\n",
       "  </thead>\n",
       "  <tbody>\n",
       "    <tr>\n",
       "      <td>0</td>\n",
       "      <td>0</td>\n",
       "      <td>28</td>\n",
       "      <td>2</td>\n",
       "      <td>1</td>\n",
       "      <td>9</td>\n",
       "      <td>6</td>\n",
       "      <td>11</td>\n",
       "      <td>0</td>\n",
       "      <td>0</td>\n",
       "      <td>0</td>\n",
       "      <td>...</td>\n",
       "      <td>0</td>\n",
       "      <td>16567</td>\n",
       "      <td>6.8</td>\n",
       "      <td>17047</td>\n",
       "      <td>197</td>\n",
       "      <td>55</td>\n",
       "      <td>-643</td>\n",
       "      <td>8</td>\n",
       "      <td>19.7</td>\n",
       "      <td>1656.7</td>\n",
       "    </tr>\n",
       "    <tr>\n",
       "      <td>1</td>\n",
       "      <td>0</td>\n",
       "      <td>12</td>\n",
       "      <td>1</td>\n",
       "      <td>0</td>\n",
       "      <td>5</td>\n",
       "      <td>5</td>\n",
       "      <td>5</td>\n",
       "      <td>0</td>\n",
       "      <td>0</td>\n",
       "      <td>0</td>\n",
       "      <td>...</td>\n",
       "      <td>1</td>\n",
       "      <td>17620</td>\n",
       "      <td>6.8</td>\n",
       "      <td>17438</td>\n",
       "      <td>240</td>\n",
       "      <td>52</td>\n",
       "      <td>2908</td>\n",
       "      <td>1173</td>\n",
       "      <td>24.0</td>\n",
       "      <td>1762.0</td>\n",
       "    </tr>\n",
       "    <tr>\n",
       "      <td>2</td>\n",
       "      <td>0</td>\n",
       "      <td>15</td>\n",
       "      <td>0</td>\n",
       "      <td>0</td>\n",
       "      <td>7</td>\n",
       "      <td>11</td>\n",
       "      <td>4</td>\n",
       "      <td>1</td>\n",
       "      <td>1</td>\n",
       "      <td>0</td>\n",
       "      <td>...</td>\n",
       "      <td>0</td>\n",
       "      <td>17285</td>\n",
       "      <td>6.8</td>\n",
       "      <td>17254</td>\n",
       "      <td>203</td>\n",
       "      <td>28</td>\n",
       "      <td>1172</td>\n",
       "      <td>1033</td>\n",
       "      <td>20.3</td>\n",
       "      <td>1728.5</td>\n",
       "    </tr>\n",
       "  </tbody>\n",
       "</table>\n",
       "<p>3 rows × 39 columns</p>\n",
       "</div>"
      ],
      "text/plain": [
       "   blueWins  blueWardsPlaced  blueWardsDestroyed  blueFirstBlood  blueKills  \\\n",
       "0         0               28                   2               1          9   \n",
       "1         0               12                   1               0          5   \n",
       "2         0               15                   0               0          7   \n",
       "\n",
       "   blueDeaths  blueAssists  blueEliteMonsters  blueDragons  blueHeralds  ...  \\\n",
       "0           6           11                  0            0            0  ...   \n",
       "1           5            5                  0            0            0  ...   \n",
       "2          11            4                  1            1            0  ...   \n",
       "\n",
       "   redTowersDestroyed  redTotalGold  redAvgLevel  redTotalExperience  \\\n",
       "0                   0         16567          6.8               17047   \n",
       "1                   1         17620          6.8               17438   \n",
       "2                   0         17285          6.8               17254   \n",
       "\n",
       "   redTotalMinionsKilled  redTotalJungleMinionsKilled  redGoldDiff  \\\n",
       "0                    197                           55         -643   \n",
       "1                    240                           52         2908   \n",
       "2                    203                           28         1172   \n",
       "\n",
       "   redExperienceDiff  redCSPerMin  redGoldPerMin  \n",
       "0                  8         19.7         1656.7  \n",
       "1               1173         24.0         1762.0  \n",
       "2               1033         20.3         1728.5  \n",
       "\n",
       "[3 rows x 39 columns]"
      ]
     },
     "execution_count": 4,
     "metadata": {},
     "output_type": "execute_result"
    }
   ],
   "source": [
    "#Tiramos a coluna gameID, posi não é necessaria na nossa análise visto que o que queremos são os dados do jogo e não \n",
    "#o seu respectivo código \n",
    "ranked=rank.drop(columns=['gameId'])\n",
    "ranked.head(3)"
   ]
  },
  {
   "cell_type": "code",
   "execution_count": 11,
   "metadata": {},
   "outputs": [
    {
     "data": {
      "text/plain": [
       "0.4990383642069035"
      ]
     },
     "execution_count": 11,
     "metadata": {},
     "output_type": "execute_result"
    }
   ],
   "source": [
    "ranked['blueWins'].mean()"
   ]
  },
  {
   "cell_type": "markdown",
   "metadata": {},
   "source": [
    "   Como podemos ver a cima por mais que próximo a média de vitorias do time azul não é igual a do time vermelho uma vez que não há empate nesse jogo, mas por que isso acontece? \n",
    " \n",
    "   Nesse jogo há objetivos a serem disputadis que influenciam para o resultado final do jogo, como por exemplo: o dinheiro obtido ao longo da partida, as estruturas(torres) que são destruidas, os monstros que são derrotados entre outros. \n",
    "    \n",
    "   Mas será que há uma dispariedade nesses quesitos que influemciam a vitoria dos dois times?"
   ]
  },
  {
   "cell_type": "markdown",
   "metadata": {},
   "source": [
    "- Vamos colocar os dados de visão do jogo lado a lado para ver o que acontece na media dos jogos."
   ]
  },
  {
   "cell_type": "code",
   "execution_count": 15,
   "metadata": {},
   "outputs": [
    {
     "name": "stdout",
     "output_type": "stream",
     "text": [
      "22.28828828828829 22.367952221884806\n"
     ]
    }
   ],
   "source": [
    "a = ranked['blueWardsPlaced'].mean()\n",
    "b = ranked['redWardsPlaced'].mean()\n",
    "print(a,b)"
   ]
  },
  {
   "cell_type": "markdown",
   "metadata": {},
   "source": [
    "Como podemos ver na média a equipe vermelha colocou mais wards que a equipe azul, o que seria uma hipótese pela qual \n",
    "a equipe vermelha ganhar mais vezes, mas nossa análise não se restringe apenas a dados de visão, apesar de eles serem muito importantes na teoria e na prática. \n",
    "\n",
    "Queremos saber se apartir de dados recebidos qual será o time vencedor, uma vez que dados como visão e torres não possuem o mesmo peso no jogo, assim vamos utilizar os metodos naivebase, decision trees para obter os resultados desejados e no final comparar os dois métodos afim de ver qual é o mais adequado para esse problema.\n"
   ]
  },
  {
   "cell_type": "markdown",
   "metadata": {},
   "source": [
    "## Naive Base"
   ]
  },
  {
   "cell_type": "markdown",
   "metadata": {},
   "source": [
    "## Decision Trees\n",
    "\n",
    "Na analise do decision trees foi possível ver que a acuracia aumenta a medida que a árvore de dados aumenta em ramificações, chegando a resultados que beiram os 90% de acuracia dependendo da profundidade da árvore.\n",
    "\n",
    "Esse tipo de análise é bem utilizada nesse caso visto que nossa base de dados trabalha com muitas variaveis independentes que alteram o resultado final \n",
    "\n",
    "Usando o Decision trees é possivel combinar as probabilidades de cada varável de uma forma que produza uma alteração significativa no resultado final "
   ]
  },
  {
   "cell_type": "markdown",
   "metadata": {},
   "source": [
    "## Resultados \n",
    "\n",
    "Como foi visto, a proposta de análise Naive Base obteve uma acuracia de _ já o Decision trees classifier obteve uma acuracia de _, com base nesses dados é possível concluir que o método _ é mais adequado para a situação analisada"
   ]
  }
 ],
 "metadata": {
  "kernelspec": {
   "display_name": "Python 3",
   "language": "python",
   "name": "python3"
  },
  "language_info": {
   "codemirror_mode": {
    "name": "ipython",
    "version": 3
   },
   "file_extension": ".py",
   "mimetype": "text/x-python",
   "name": "python",
   "nbconvert_exporter": "python",
   "pygments_lexer": "ipython3",
   "version": "3.7.1"
  }
 },
 "nbformat": 4,
 "nbformat_minor": 2
}
